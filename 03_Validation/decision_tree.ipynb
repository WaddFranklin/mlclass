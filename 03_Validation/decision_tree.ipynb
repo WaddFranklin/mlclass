{
 "cells": [
  {
   "cell_type": "code",
   "execution_count": 1,
   "metadata": {},
   "outputs": [],
   "source": [
    "import pandas as pd\n",
    "import matplotlib.pyplot as plt\n",
    "import seaborn as sns\n",
    "from sklearn.preprocessing import StandardScaler\n",
    "from sklearn.model_selection import StratifiedShuffleSplit\n",
    "from sklearn.neural_network import MLPClassifier\n",
    "from sklearn.ensemble import RandomForestClassifier\n",
    "from sklearn.metrics import roc_auc_score\n",
    "from sklearn.metrics import f1_score\n",
    "from sklearn.tree import DecisionTreeClassifier\n",
    "import warnings"
   ]
  },
  {
   "cell_type": "code",
   "execution_count": 2,
   "metadata": {},
   "outputs": [
    {
     "data": {
      "text/html": [
       "<div>\n",
       "<style scoped>\n",
       "    .dataframe tbody tr th:only-of-type {\n",
       "        vertical-align: middle;\n",
       "    }\n",
       "\n",
       "    .dataframe tbody tr th {\n",
       "        vertical-align: top;\n",
       "    }\n",
       "\n",
       "    .dataframe thead th {\n",
       "        text-align: right;\n",
       "    }\n",
       "</style>\n",
       "<table border=\"1\" class=\"dataframe\">\n",
       "  <thead>\n",
       "    <tr style=\"text-align: right;\">\n",
       "      <th></th>\n",
       "      <th>sex</th>\n",
       "      <th>length</th>\n",
       "      <th>diameter</th>\n",
       "      <th>height</th>\n",
       "      <th>whole_weight</th>\n",
       "      <th>shucked_weight</th>\n",
       "      <th>viscera_weight</th>\n",
       "      <th>shell_weight</th>\n",
       "      <th>type</th>\n",
       "    </tr>\n",
       "  </thead>\n",
       "  <tbody>\n",
       "    <tr>\n",
       "      <th>0</th>\n",
       "      <td>M</td>\n",
       "      <td>0.535</td>\n",
       "      <td>0.420</td>\n",
       "      <td>0.150</td>\n",
       "      <td>0.6995</td>\n",
       "      <td>0.2575</td>\n",
       "      <td>0.1530</td>\n",
       "      <td>0.2400</td>\n",
       "      <td>3</td>\n",
       "    </tr>\n",
       "    <tr>\n",
       "      <th>1</th>\n",
       "      <td>I</td>\n",
       "      <td>0.510</td>\n",
       "      <td>0.380</td>\n",
       "      <td>0.115</td>\n",
       "      <td>0.5155</td>\n",
       "      <td>0.2150</td>\n",
       "      <td>0.1135</td>\n",
       "      <td>0.1660</td>\n",
       "      <td>1</td>\n",
       "    </tr>\n",
       "    <tr>\n",
       "      <th>2</th>\n",
       "      <td>I</td>\n",
       "      <td>0.185</td>\n",
       "      <td>0.130</td>\n",
       "      <td>0.045</td>\n",
       "      <td>0.0290</td>\n",
       "      <td>0.0120</td>\n",
       "      <td>0.0075</td>\n",
       "      <td>0.0095</td>\n",
       "      <td>1</td>\n",
       "    </tr>\n",
       "    <tr>\n",
       "      <th>3</th>\n",
       "      <td>M</td>\n",
       "      <td>0.550</td>\n",
       "      <td>0.450</td>\n",
       "      <td>0.170</td>\n",
       "      <td>0.8100</td>\n",
       "      <td>0.3170</td>\n",
       "      <td>0.1570</td>\n",
       "      <td>0.2200</td>\n",
       "      <td>3</td>\n",
       "    </tr>\n",
       "    <tr>\n",
       "      <th>4</th>\n",
       "      <td>I</td>\n",
       "      <td>0.535</td>\n",
       "      <td>0.415</td>\n",
       "      <td>0.150</td>\n",
       "      <td>0.5765</td>\n",
       "      <td>0.3595</td>\n",
       "      <td>0.1350</td>\n",
       "      <td>0.2250</td>\n",
       "      <td>1</td>\n",
       "    </tr>\n",
       "  </tbody>\n",
       "</table>\n",
       "</div>"
      ],
      "text/plain": [
       "  sex  length  diameter  height  whole_weight  shucked_weight  viscera_weight  \\\n",
       "0   M   0.535     0.420   0.150        0.6995          0.2575          0.1530   \n",
       "1   I   0.510     0.380   0.115        0.5155          0.2150          0.1135   \n",
       "2   I   0.185     0.130   0.045        0.0290          0.0120          0.0075   \n",
       "3   M   0.550     0.450   0.170        0.8100          0.3170          0.1570   \n",
       "4   I   0.535     0.415   0.150        0.5765          0.3595          0.1350   \n",
       "\n",
       "   shell_weight  type  \n",
       "0        0.2400     3  \n",
       "1        0.1660     1  \n",
       "2        0.0095     1  \n",
       "3        0.2200     3  \n",
       "4        0.2250     1  "
      ]
     },
     "execution_count": 2,
     "metadata": {},
     "output_type": "execute_result"
    }
   ],
   "source": [
    "data = pd.read_csv('abalone_dataset.csv')\n",
    "data.head()"
   ]
  },
  {
   "cell_type": "code",
   "execution_count": 3,
   "metadata": {},
   "outputs": [
    {
     "name": "stdout",
     "output_type": "stream",
     "text": [
      "(3132, 9)\n",
      "Index(['sex', 'length', 'diameter', 'height', 'whole_weight', 'shucked_weight',\n",
      "       'viscera_weight', 'shell_weight', 'type'],\n",
      "      dtype='object')\n"
     ]
    }
   ],
   "source": [
    "print(data.shape)\n",
    "print(data.columns)"
   ]
  },
  {
   "cell_type": "code",
   "execution_count": 4,
   "metadata": {},
   "outputs": [
    {
     "data": {
      "text/plain": [
       "sex                object\n",
       "length            float64\n",
       "diameter          float64\n",
       "height            float64\n",
       "whole_weight      float64\n",
       "shucked_weight    float64\n",
       "viscera_weight    float64\n",
       "shell_weight      float64\n",
       "type                int64\n",
       "dtype: object"
      ]
     },
     "execution_count": 4,
     "metadata": {},
     "output_type": "execute_result"
    }
   ],
   "source": [
    "data.dtypes"
   ]
  },
  {
   "cell_type": "markdown",
   "metadata": {},
   "source": [
    "A feature 'sex' eh do tipo caractere. Precisamos converter os dados dessa coluna para o tipo int"
   ]
  },
  {
   "cell_type": "code",
   "execution_count": 5,
   "metadata": {},
   "outputs": [],
   "source": [
    "def conv(sex):\n",
    "    if sex == 'M':\n",
    "        sex = 0\n",
    "    elif sex == 'F':\n",
    "        sex = 1\n",
    "    else:\n",
    "        sex = 2\n",
    "        \n",
    "    return sex"
   ]
  },
  {
   "cell_type": "code",
   "execution_count": 6,
   "metadata": {},
   "outputs": [
    {
     "data": {
      "text/html": [
       "<div>\n",
       "<style scoped>\n",
       "    .dataframe tbody tr th:only-of-type {\n",
       "        vertical-align: middle;\n",
       "    }\n",
       "\n",
       "    .dataframe tbody tr th {\n",
       "        vertical-align: top;\n",
       "    }\n",
       "\n",
       "    .dataframe thead th {\n",
       "        text-align: right;\n",
       "    }\n",
       "</style>\n",
       "<table border=\"1\" class=\"dataframe\">\n",
       "  <thead>\n",
       "    <tr style=\"text-align: right;\">\n",
       "      <th></th>\n",
       "      <th>sex</th>\n",
       "      <th>length</th>\n",
       "      <th>diameter</th>\n",
       "      <th>height</th>\n",
       "      <th>whole_weight</th>\n",
       "      <th>shucked_weight</th>\n",
       "      <th>viscera_weight</th>\n",
       "      <th>shell_weight</th>\n",
       "      <th>type</th>\n",
       "    </tr>\n",
       "  </thead>\n",
       "  <tbody>\n",
       "    <tr>\n",
       "      <th>0</th>\n",
       "      <td>0</td>\n",
       "      <td>0.535</td>\n",
       "      <td>0.420</td>\n",
       "      <td>0.150</td>\n",
       "      <td>0.6995</td>\n",
       "      <td>0.2575</td>\n",
       "      <td>0.1530</td>\n",
       "      <td>0.2400</td>\n",
       "      <td>3</td>\n",
       "    </tr>\n",
       "    <tr>\n",
       "      <th>1</th>\n",
       "      <td>2</td>\n",
       "      <td>0.510</td>\n",
       "      <td>0.380</td>\n",
       "      <td>0.115</td>\n",
       "      <td>0.5155</td>\n",
       "      <td>0.2150</td>\n",
       "      <td>0.1135</td>\n",
       "      <td>0.1660</td>\n",
       "      <td>1</td>\n",
       "    </tr>\n",
       "    <tr>\n",
       "      <th>2</th>\n",
       "      <td>2</td>\n",
       "      <td>0.185</td>\n",
       "      <td>0.130</td>\n",
       "      <td>0.045</td>\n",
       "      <td>0.0290</td>\n",
       "      <td>0.0120</td>\n",
       "      <td>0.0075</td>\n",
       "      <td>0.0095</td>\n",
       "      <td>1</td>\n",
       "    </tr>\n",
       "    <tr>\n",
       "      <th>3</th>\n",
       "      <td>0</td>\n",
       "      <td>0.550</td>\n",
       "      <td>0.450</td>\n",
       "      <td>0.170</td>\n",
       "      <td>0.8100</td>\n",
       "      <td>0.3170</td>\n",
       "      <td>0.1570</td>\n",
       "      <td>0.2200</td>\n",
       "      <td>3</td>\n",
       "    </tr>\n",
       "    <tr>\n",
       "      <th>4</th>\n",
       "      <td>2</td>\n",
       "      <td>0.535</td>\n",
       "      <td>0.415</td>\n",
       "      <td>0.150</td>\n",
       "      <td>0.5765</td>\n",
       "      <td>0.3595</td>\n",
       "      <td>0.1350</td>\n",
       "      <td>0.2250</td>\n",
       "      <td>1</td>\n",
       "    </tr>\n",
       "    <tr>\n",
       "      <th>5</th>\n",
       "      <td>1</td>\n",
       "      <td>0.700</td>\n",
       "      <td>0.575</td>\n",
       "      <td>0.205</td>\n",
       "      <td>1.7730</td>\n",
       "      <td>0.6050</td>\n",
       "      <td>0.4470</td>\n",
       "      <td>0.5380</td>\n",
       "      <td>3</td>\n",
       "    </tr>\n",
       "    <tr>\n",
       "      <th>6</th>\n",
       "      <td>0</td>\n",
       "      <td>0.400</td>\n",
       "      <td>0.305</td>\n",
       "      <td>0.085</td>\n",
       "      <td>0.2970</td>\n",
       "      <td>0.1080</td>\n",
       "      <td>0.0705</td>\n",
       "      <td>0.1000</td>\n",
       "      <td>2</td>\n",
       "    </tr>\n",
       "    <tr>\n",
       "      <th>7</th>\n",
       "      <td>1</td>\n",
       "      <td>0.620</td>\n",
       "      <td>0.480</td>\n",
       "      <td>0.165</td>\n",
       "      <td>1.0125</td>\n",
       "      <td>0.5325</td>\n",
       "      <td>0.4365</td>\n",
       "      <td>0.3240</td>\n",
       "      <td>2</td>\n",
       "    </tr>\n",
       "    <tr>\n",
       "      <th>8</th>\n",
       "      <td>0</td>\n",
       "      <td>0.655</td>\n",
       "      <td>0.515</td>\n",
       "      <td>0.200</td>\n",
       "      <td>1.3730</td>\n",
       "      <td>0.4430</td>\n",
       "      <td>0.3375</td>\n",
       "      <td>0.4900</td>\n",
       "      <td>3</td>\n",
       "    </tr>\n",
       "    <tr>\n",
       "      <th>9</th>\n",
       "      <td>1</td>\n",
       "      <td>0.595</td>\n",
       "      <td>0.475</td>\n",
       "      <td>0.165</td>\n",
       "      <td>1.1480</td>\n",
       "      <td>0.4440</td>\n",
       "      <td>0.2140</td>\n",
       "      <td>0.3700</td>\n",
       "      <td>2</td>\n",
       "    </tr>\n",
       "  </tbody>\n",
       "</table>\n",
       "</div>"
      ],
      "text/plain": [
       "   sex  length  diameter  height  whole_weight  shucked_weight  \\\n",
       "0    0   0.535     0.420   0.150        0.6995          0.2575   \n",
       "1    2   0.510     0.380   0.115        0.5155          0.2150   \n",
       "2    2   0.185     0.130   0.045        0.0290          0.0120   \n",
       "3    0   0.550     0.450   0.170        0.8100          0.3170   \n",
       "4    2   0.535     0.415   0.150        0.5765          0.3595   \n",
       "5    1   0.700     0.575   0.205        1.7730          0.6050   \n",
       "6    0   0.400     0.305   0.085        0.2970          0.1080   \n",
       "7    1   0.620     0.480   0.165        1.0125          0.5325   \n",
       "8    0   0.655     0.515   0.200        1.3730          0.4430   \n",
       "9    1   0.595     0.475   0.165        1.1480          0.4440   \n",
       "\n",
       "   viscera_weight  shell_weight  type  \n",
       "0          0.1530        0.2400     3  \n",
       "1          0.1135        0.1660     1  \n",
       "2          0.0075        0.0095     1  \n",
       "3          0.1570        0.2200     3  \n",
       "4          0.1350        0.2250     1  \n",
       "5          0.4470        0.5380     3  \n",
       "6          0.0705        0.1000     2  \n",
       "7          0.4365        0.3240     2  \n",
       "8          0.3375        0.4900     3  \n",
       "9          0.2140        0.3700     2  "
      ]
     },
     "execution_count": 6,
     "metadata": {},
     "output_type": "execute_result"
    }
   ],
   "source": [
    "data['sex'] = data['sex'].apply(conv)\n",
    "data.head(10)"
   ]
  },
  {
   "cell_type": "code",
   "execution_count": 7,
   "metadata": {},
   "outputs": [
    {
     "data": {
      "text/plain": [
       "sex                 int64\n",
       "length            float64\n",
       "diameter          float64\n",
       "height            float64\n",
       "whole_weight      float64\n",
       "shucked_weight    float64\n",
       "viscera_weight    float64\n",
       "shell_weight      float64\n",
       "type                int64\n",
       "dtype: object"
      ]
     },
     "execution_count": 7,
     "metadata": {},
     "output_type": "execute_result"
    }
   ],
   "source": [
    "data.dtypes"
   ]
  },
  {
   "cell_type": "code",
   "execution_count": 20,
   "metadata": {},
   "outputs": [
    {
     "data": {
      "text/plain": [
       "<matplotlib.axes._subplots.AxesSubplot at 0x7fc4c0890ac8>"
      ]
     },
     "execution_count": 20,
     "metadata": {},
     "output_type": "execute_result"
    },
    {
     "data": {
      "image/png": "[encoded data removed]",
      "text/plain": [
       "<Figure size 432x288 with 1 Axes>"
      ]
     },
     "metadata": {
      "needs_background": "light"
     },
     "output_type": "display_data"
    }
   ],
   "source": [
    "count_classes = pd.value_counts(data['type'], sort = True)\n",
    "count_classes.plot(kind = 'bar', rot=0)"
   ]
  },
  {
   "cell_type": "code",
   "execution_count": 21,
   "metadata": {},
   "outputs": [],
   "source": [
    "features = data.columns.difference(['type'])\n",
    "X = data[features].values\n",
    "y = data['type'].values"
   ]
  },
  {
   "cell_type": "code",
   "execution_count": 22,
   "metadata": {},
   "outputs": [],
   "source": [
    "classifier_decision_tree = DecisionTreeClassifier(random_state=2019, criterion='entropy', max_depth=5)"
   ]
  },
  {
   "cell_type": "code",
   "execution_count": 23,
   "metadata": {},
   "outputs": [
    {
     "data": {
      "text/plain": [
       "DecisionTreeClassifier(class_weight=None, criterion='entropy', max_depth=5,\n",
       "                       max_features=None, max_leaf_nodes=None,\n",
       "                       min_impurity_decrease=0.0, min_impurity_split=None,\n",
       "                       min_samples_leaf=1, min_samples_split=2,\n",
       "                       min_weight_fraction_leaf=0.0, presort=False,\n",
       "                       random_state=2019, splitter='best')"
      ]
     },
     "execution_count": 23,
     "metadata": {},
     "output_type": "execute_result"
    }
   ],
   "source": [
    "classifier_decision_tree.fit(X, y)"
   ]
  },
  {
   "cell_type": "code",
   "execution_count": 26,
   "metadata": {},
   "outputs": [
    {
     "data": {
      "text/html": [
       "<div>\n",
       "<style scoped>\n",
       "    .dataframe tbody tr th:only-of-type {\n",
       "        vertical-align: middle;\n",
       "    }\n",
       "\n",
       "    .dataframe tbody tr th {\n",
       "        vertical-align: top;\n",
       "    }\n",
       "\n",
       "    .dataframe thead th {\n",
       "        text-align: right;\n",
       "    }\n",
       "</style>\n",
       "<table border=\"1\" class=\"dataframe\">\n",
       "  <thead>\n",
       "    <tr style=\"text-align: right;\">\n",
       "      <th></th>\n",
       "      <th>sex</th>\n",
       "      <th>length</th>\n",
       "      <th>diameter</th>\n",
       "      <th>height</th>\n",
       "      <th>whole_weight</th>\n",
       "      <th>shucked_weight</th>\n",
       "      <th>viscera_weight</th>\n",
       "      <th>shell_weight</th>\n",
       "    </tr>\n",
       "  </thead>\n",
       "  <tbody>\n",
       "    <tr>\n",
       "      <th>0</th>\n",
       "      <td>0</td>\n",
       "      <td>0.600</td>\n",
       "      <td>0.480</td>\n",
       "      <td>0.175</td>\n",
       "      <td>1.2290</td>\n",
       "      <td>0.4125</td>\n",
       "      <td>0.2735</td>\n",
       "      <td>0.4150</td>\n",
       "    </tr>\n",
       "    <tr>\n",
       "      <th>1</th>\n",
       "      <td>1</td>\n",
       "      <td>0.545</td>\n",
       "      <td>0.385</td>\n",
       "      <td>0.150</td>\n",
       "      <td>1.1185</td>\n",
       "      <td>0.5425</td>\n",
       "      <td>0.2445</td>\n",
       "      <td>0.2845</td>\n",
       "    </tr>\n",
       "    <tr>\n",
       "      <th>2</th>\n",
       "      <td>1</td>\n",
       "      <td>0.645</td>\n",
       "      <td>0.520</td>\n",
       "      <td>0.180</td>\n",
       "      <td>1.2850</td>\n",
       "      <td>0.5775</td>\n",
       "      <td>0.3520</td>\n",
       "      <td>0.3170</td>\n",
       "    </tr>\n",
       "    <tr>\n",
       "      <th>3</th>\n",
       "      <td>0</td>\n",
       "      <td>0.640</td>\n",
       "      <td>0.510</td>\n",
       "      <td>0.170</td>\n",
       "      <td>1.3715</td>\n",
       "      <td>0.5670</td>\n",
       "      <td>0.3070</td>\n",
       "      <td>0.4090</td>\n",
       "    </tr>\n",
       "    <tr>\n",
       "      <th>4</th>\n",
       "      <td>1</td>\n",
       "      <td>0.655</td>\n",
       "      <td>0.540</td>\n",
       "      <td>0.215</td>\n",
       "      <td>1.5555</td>\n",
       "      <td>0.6950</td>\n",
       "      <td>0.2960</td>\n",
       "      <td>0.4440</td>\n",
       "    </tr>\n",
       "  </tbody>\n",
       "</table>\n",
       "</div>"
      ],
      "text/plain": [
       "   sex  length  diameter  height  whole_weight  shucked_weight  \\\n",
       "0    0   0.600     0.480   0.175        1.2290          0.4125   \n",
       "1    1   0.545     0.385   0.150        1.1185          0.5425   \n",
       "2    1   0.645     0.520   0.180        1.2850          0.5775   \n",
       "3    0   0.640     0.510   0.170        1.3715          0.5670   \n",
       "4    1   0.655     0.540   0.215        1.5555          0.6950   \n",
       "\n",
       "   viscera_weight  shell_weight  \n",
       "0          0.2735        0.4150  \n",
       "1          0.2445        0.2845  \n",
       "2          0.3520        0.3170  \n",
       "3          0.3070        0.4090  \n",
       "4          0.2960        0.4440  "
      ]
     },
     "execution_count": 26,
     "metadata": {},
     "output_type": "execute_result"
    }
   ],
   "source": [
    "samples = pd.read_csv('abalone_app.csv')\n",
    "samples['sex'] = samples['sex'].apply(conv)\n",
    "samples.head()"
   ]
  },
  {
   "cell_type": "code",
   "execution_count": 27,
   "metadata": {},
   "outputs": [
    {
     "data": {
      "text/plain": [
       "array([[0.    , 0.6   , 0.48  , ..., 0.4125, 0.2735, 0.415 ],\n",
       "       [1.    , 0.545 , 0.385 , ..., 0.5425, 0.2445, 0.2845],\n",
       "       [1.    , 0.645 , 0.52  , ..., 0.5775, 0.352 , 0.317 ],\n",
       "       ...,\n",
       "       [1.    , 0.5   , 0.405 , ..., 0.253 , 0.126 , 0.185 ],\n",
       "       [2.    , 0.38  , 0.275 , ..., 0.106 , 0.0485, 0.21  ],\n",
       "       [0.    , 0.59  , 0.475 , ..., 0.4545, 0.244 , 0.3095]])"
      ]
     },
     "execution_count": 27,
     "metadata": {},
     "output_type": "execute_result"
    }
   ],
   "source": [
    "sample_values = samples.values\n",
    "sample_values"
   ]
  },
  {
   "cell_type": "code",
   "execution_count": 29,
   "metadata": {},
   "outputs": [],
   "source": [
    "output = classifier_decision_tree.predict(sample_values)"
   ]
  },
  {
   "cell_type": "code",
   "execution_count": 32,
   "metadata": {},
   "outputs": [
    {
     "name": "stdout",
     "output_type": "stream",
     "text": [
      "3 3 3 3 3 3 2 3 3 3 3 3 3 3 3 3 3 2 3 3 3 3 3 3 3 3 3 3 3 3 3 3 2 3 3 3 3 3 3 3 3 3 3 3 3 3 3 3 3 3 3 3 3 3 3 3 3 3 3 3 3 3 3 3 3 3 3 3 3 2 3 3 3 3 2 3 3 3 3 3 3 3 3 3 3 3 3 3 3 3 3 3 3 3 3 3 3 3 3 3 3 3 3 3 3 3 2 3 3 3 3 3 3 3 1 3 3 3 3 3 3 3 3 3 3 3 3 1 1 3 3 2 3 3 3 3 3 3 3 3 3 3 3 3 3 3 3 3 2 3 3 1 3 3 3 3 3 3 1 3 3 3 3 3 3 3 3 3 3 3 3 3 3 3 3 3 3 3 3 3 2 3 3 3 3 3 3 3 3 3 3 3 3 3 3 3 3 3 3 3 3 3 2 3 3 3 3 3 3 3 2 3 3 3 3 3 3 3 3 2 3 3 3 3 2 3 3 3 3 3 3 2 3 3 3 3 3 1 3 3 3 3 3 3 3 3 3 3 3 3 3 3 3 3 3 3 3 3 3 3 3 3 3 3 3 3 3 3 3 3 3 3 3 3 3 3 3 3 3 3 3 3 3 3 3 3 3 3 3 3 3 3 3 3 3 3 3 3 3 3 3 3 3 3 3 3 3 3 3 3 3 3 3 3 3 3 3 3 2 3 3 3 3 3 3 3 1 3 3 3 3 3 3 3 3 3 3 3 3 3 3 3 3 3 3 3 3 3 1 3 3 3 3 3 3 3 3 3 2 3 3 3 3 3 3 3 3 3 3 3 2 2 3 3 3 3 3 2 3 3 3 3 3 3 3 3 3 3 3 3 3 3 3 3 3 2 3 2 3 3 3 3 3 3 3 3 3 3 2 3 3 3 3 2 3 3 3 3 2 3 3 3 3 3 3 3 3 3 3 3 3 3 3 3 3 3 3 3 3 3 3 3 3 3 3 3 3 2 3 3 3 2 3 3 3 3 3 3 2 3 3 3 3 3 3 3 3 3 3 3 3 3 3 3 3 3 3 3 3 3 3 3 1 3 3 2 3 3 3 3 3 3 3 3 3 3 3 3 3 3 3 3 3 3 2 3 3 3 3 3 3 3 3 3 3 3 3 3 3 3 3 3 3 3 3 3 3 3 3 3 3 3 3 3 3 3 3 3 3 3 3 3 3 3 3 3 2 3 3 3 3 3 3 3 3 3 3 3 3 3 3 3 3 3 3 3 3 3 3 3 3 3 3 3 3 3 3 2 2 3 3 3 3 3 3 3 3 2 3 1 3 3 3 3 3 3 3 3 3 3 3 3 3 3 3 3 3 2 3 3 3 3 3 3 3 1 3 3 3 3 3 2 3 3 3 3 3 3 2 3 3 3 3 3 3 3 3 3 3 3 3 3 3 3 3 3 2 3 3 2 3 3 3 3 3 3 2 3 3 3 3 3 3 2 3 3 3 3 3 3 3 3 3 3 3 3 3 3 3 3 3 3 3 3 3 3 3 3 3 3 3 3 3 3 3 3 3 3 3 3 3 3 3 3 3 3 3 3 3 3 3 3 3 3 3 3 3 3 3 3 3 3 3 3 3 3 3 3 3 3 3 3 3 3 3 3 3 3 3 3 3 3 3 3 3 2 3 3 3 3 3 2 3 3 3 3 3 3 3 3 3 3 3 3 3 3 3 3 3 3 3 3 3 3 3 3 3 3 2 3 3 3 3 3 3 3 3 3 3 3 2 3 3 3 3 3 3 3 3 3 3 3 3 3 3 3 3 2 3 3 3 3 3 3 2 3 3 3 3 3 3 3 3 3 3 3 3 3 3 3 3 3 3 3 3 3 3 3 3 3 3 3 3 3 3 3 3 3 3 3 3 2 3 2 3 3 3 2 3 3 3 3 3 3 3 3 3 3 3 3 3 3 3 3 3 3 3 3 3 3 2 3 3 3 3 3 3 3 3 3 3 3 3 3 3 3 3 3 3 3 3 3 3 1 3 3 3 3 3 3 3 3 3 3 3 3 3 3 3 3 2 3 3 3 3 2 3 3 3 3 3 3 3 3 3 3 3 3 3 3 3 3 3 2 3 3 3 3 3 3 3 3 3 3 3 3 3 3 3 3 3 3 3 3 3 3 3 3 3 3 3 3 3 3 3 3 3 3 3 3 3 2 3 3 3 3 3 3 3 3 3 3 3 3 3 3 3 3 3 3 3 3 3 3 3 3 3 3 3 3 3 3 3 3 3 3 3 3 3 3 1 3 3 3 3 3 3 3 3 3 3 3 3 2 3 3 3 3 3 3 3 3 3 3 3 "
     ]
    }
   ],
   "source": [
    "for x in output:\n",
    "    print(x, end=' ')"
   ]
  },
  {
   "cell_type": "code",
   "execution_count": 35,
   "metadata": {},
   "outputs": [
    {
     "name": "stdout",
     "output_type": "stream",
     "text": [
      "0.6334381901482137\n"
     ]
    }
   ],
   "source": [
    "from sklearn.model_selection import cross_val_score\n",
    "\n",
    "scores = cross_val_score(classifier_decision_tree, X, y, scoring='accuracy', cv=5)\n",
    "print(scores.mean())"
   ]
  },
  {
   "cell_type": "code",
   "execution_count": null,
   "metadata": {},
   "outputs": [],
   "source": []
  }
 ],
 "metadata": {
  "kernelspec": {
   "display_name": "Python 3",
   "language": "python",
   "name": "python3"
  },
  "language_info": {
   "codemirror_mode": {
    "name": "ipython",
    "version": 3
   },
   "file_extension": ".py",
   "mimetype": "text/x-python",
   "name": "python",
   "nbconvert_exporter": "python",
   "pygments_lexer": "ipython3",
   "version": "3.6.8"
  }
 },
 "nbformat": 4,
 "nbformat_minor": 2
}
