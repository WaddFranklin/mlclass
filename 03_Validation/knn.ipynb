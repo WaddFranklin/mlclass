{
 "cells": [
  {
   "cell_type": "code",
   "execution_count": 1,
   "metadata": {},
   "outputs": [],
   "source": [
    "%matplotlib inline\n",
    "import pandas as pd\n",
    "import numpy as np\n",
    "import matplotlib.pyplot as plt\n",
    "from sklearn.neighbors import KNeighborsClassifier"
   ]
  },
  {
   "cell_type": "markdown",
   "metadata": {},
   "source": [
    "## Load data"
   ]
  },
  {
   "cell_type": "code",
   "execution_count": 2,
   "metadata": {},
   "outputs": [
    {
     "data": {
      "text/html": [
       "<div>\n",
       "<style scoped>\n",
       "    .dataframe tbody tr th:only-of-type {\n",
       "        vertical-align: middle;\n",
       "    }\n",
       "\n",
       "    .dataframe tbody tr th {\n",
       "        vertical-align: top;\n",
       "    }\n",
       "\n",
       "    .dataframe thead th {\n",
       "        text-align: right;\n",
       "    }\n",
       "</style>\n",
       "<table border=\"1\" class=\"dataframe\">\n",
       "  <thead>\n",
       "    <tr style=\"text-align: right;\">\n",
       "      <th></th>\n",
       "      <th>sex</th>\n",
       "      <th>length</th>\n",
       "      <th>diameter</th>\n",
       "      <th>height</th>\n",
       "      <th>whole_weight</th>\n",
       "      <th>shucked_weight</th>\n",
       "      <th>viscera_weight</th>\n",
       "      <th>shell_weight</th>\n",
       "      <th>type</th>\n",
       "    </tr>\n",
       "  </thead>\n",
       "  <tbody>\n",
       "    <tr>\n",
       "      <th>0</th>\n",
       "      <td>M</td>\n",
       "      <td>0.535</td>\n",
       "      <td>0.420</td>\n",
       "      <td>0.150</td>\n",
       "      <td>0.6995</td>\n",
       "      <td>0.2575</td>\n",
       "      <td>0.1530</td>\n",
       "      <td>0.2400</td>\n",
       "      <td>3</td>\n",
       "    </tr>\n",
       "    <tr>\n",
       "      <th>1</th>\n",
       "      <td>I</td>\n",
       "      <td>0.510</td>\n",
       "      <td>0.380</td>\n",
       "      <td>0.115</td>\n",
       "      <td>0.5155</td>\n",
       "      <td>0.2150</td>\n",
       "      <td>0.1135</td>\n",
       "      <td>0.1660</td>\n",
       "      <td>1</td>\n",
       "    </tr>\n",
       "    <tr>\n",
       "      <th>2</th>\n",
       "      <td>I</td>\n",
       "      <td>0.185</td>\n",
       "      <td>0.130</td>\n",
       "      <td>0.045</td>\n",
       "      <td>0.0290</td>\n",
       "      <td>0.0120</td>\n",
       "      <td>0.0075</td>\n",
       "      <td>0.0095</td>\n",
       "      <td>1</td>\n",
       "    </tr>\n",
       "    <tr>\n",
       "      <th>3</th>\n",
       "      <td>M</td>\n",
       "      <td>0.550</td>\n",
       "      <td>0.450</td>\n",
       "      <td>0.170</td>\n",
       "      <td>0.8100</td>\n",
       "      <td>0.3170</td>\n",
       "      <td>0.1570</td>\n",
       "      <td>0.2200</td>\n",
       "      <td>3</td>\n",
       "    </tr>\n",
       "    <tr>\n",
       "      <th>4</th>\n",
       "      <td>I</td>\n",
       "      <td>0.535</td>\n",
       "      <td>0.415</td>\n",
       "      <td>0.150</td>\n",
       "      <td>0.5765</td>\n",
       "      <td>0.3595</td>\n",
       "      <td>0.1350</td>\n",
       "      <td>0.2250</td>\n",
       "      <td>1</td>\n",
       "    </tr>\n",
       "  </tbody>\n",
       "</table>\n",
       "</div>"
      ],
      "text/plain": [
       "  sex  length  diameter  height  whole_weight  shucked_weight  viscera_weight  \\\n",
       "0   M   0.535     0.420   0.150        0.6995          0.2575          0.1530   \n",
       "1   I   0.510     0.380   0.115        0.5155          0.2150          0.1135   \n",
       "2   I   0.185     0.130   0.045        0.0290          0.0120          0.0075   \n",
       "3   M   0.550     0.450   0.170        0.8100          0.3170          0.1570   \n",
       "4   I   0.535     0.415   0.150        0.5765          0.3595          0.1350   \n",
       "\n",
       "   shell_weight  type  \n",
       "0        0.2400     3  \n",
       "1        0.1660     1  \n",
       "2        0.0095     1  \n",
       "3        0.2200     3  \n",
       "4        0.2250     1  "
      ]
     },
     "execution_count": 2,
     "metadata": {},
     "output_type": "execute_result"
    }
   ],
   "source": [
    "data = pd.read_csv('abalone_dataset.csv')\n",
    "sample = pd.read_csv('abalone_app.csv')\n",
    "data.head()"
   ]
  },
  {
   "cell_type": "markdown",
   "metadata": {},
   "source": [
    "## Transform"
   ]
  },
  {
   "cell_type": "code",
   "execution_count": 3,
   "metadata": {},
   "outputs": [
    {
     "data": {
      "text/html": [
       "<div>\n",
       "<style scoped>\n",
       "    .dataframe tbody tr th:only-of-type {\n",
       "        vertical-align: middle;\n",
       "    }\n",
       "\n",
       "    .dataframe tbody tr th {\n",
       "        vertical-align: top;\n",
       "    }\n",
       "\n",
       "    .dataframe thead th {\n",
       "        text-align: right;\n",
       "    }\n",
       "</style>\n",
       "<table border=\"1\" class=\"dataframe\">\n",
       "  <thead>\n",
       "    <tr style=\"text-align: right;\">\n",
       "      <th></th>\n",
       "      <th>sex</th>\n",
       "      <th>length</th>\n",
       "      <th>diameter</th>\n",
       "      <th>height</th>\n",
       "      <th>whole_weight</th>\n",
       "      <th>shucked_weight</th>\n",
       "      <th>viscera_weight</th>\n",
       "      <th>shell_weight</th>\n",
       "      <th>type</th>\n",
       "    </tr>\n",
       "  </thead>\n",
       "  <tbody>\n",
       "    <tr>\n",
       "      <th>0</th>\n",
       "      <td>0</td>\n",
       "      <td>0.535</td>\n",
       "      <td>0.420</td>\n",
       "      <td>0.150</td>\n",
       "      <td>0.6995</td>\n",
       "      <td>0.2575</td>\n",
       "      <td>0.1530</td>\n",
       "      <td>0.2400</td>\n",
       "      <td>3</td>\n",
       "    </tr>\n",
       "    <tr>\n",
       "      <th>1</th>\n",
       "      <td>2</td>\n",
       "      <td>0.510</td>\n",
       "      <td>0.380</td>\n",
       "      <td>0.115</td>\n",
       "      <td>0.5155</td>\n",
       "      <td>0.2150</td>\n",
       "      <td>0.1135</td>\n",
       "      <td>0.1660</td>\n",
       "      <td>1</td>\n",
       "    </tr>\n",
       "    <tr>\n",
       "      <th>2</th>\n",
       "      <td>2</td>\n",
       "      <td>0.185</td>\n",
       "      <td>0.130</td>\n",
       "      <td>0.045</td>\n",
       "      <td>0.0290</td>\n",
       "      <td>0.0120</td>\n",
       "      <td>0.0075</td>\n",
       "      <td>0.0095</td>\n",
       "      <td>1</td>\n",
       "    </tr>\n",
       "    <tr>\n",
       "      <th>3</th>\n",
       "      <td>0</td>\n",
       "      <td>0.550</td>\n",
       "      <td>0.450</td>\n",
       "      <td>0.170</td>\n",
       "      <td>0.8100</td>\n",
       "      <td>0.3170</td>\n",
       "      <td>0.1570</td>\n",
       "      <td>0.2200</td>\n",
       "      <td>3</td>\n",
       "    </tr>\n",
       "    <tr>\n",
       "      <th>4</th>\n",
       "      <td>2</td>\n",
       "      <td>0.535</td>\n",
       "      <td>0.415</td>\n",
       "      <td>0.150</td>\n",
       "      <td>0.5765</td>\n",
       "      <td>0.3595</td>\n",
       "      <td>0.1350</td>\n",
       "      <td>0.2250</td>\n",
       "      <td>1</td>\n",
       "    </tr>\n",
       "  </tbody>\n",
       "</table>\n",
       "</div>"
      ],
      "text/plain": [
       "   sex  length  diameter  height  whole_weight  shucked_weight  \\\n",
       "0    0   0.535     0.420   0.150        0.6995          0.2575   \n",
       "1    2   0.510     0.380   0.115        0.5155          0.2150   \n",
       "2    2   0.185     0.130   0.045        0.0290          0.0120   \n",
       "3    0   0.550     0.450   0.170        0.8100          0.3170   \n",
       "4    2   0.535     0.415   0.150        0.5765          0.3595   \n",
       "\n",
       "   viscera_weight  shell_weight  type  \n",
       "0          0.1530        0.2400     3  \n",
       "1          0.1135        0.1660     1  \n",
       "2          0.0075        0.0095     1  \n",
       "3          0.1570        0.2200     3  \n",
       "4          0.1350        0.2250     1  "
      ]
     },
     "execution_count": 3,
     "metadata": {},
     "output_type": "execute_result"
    }
   ],
   "source": [
    "def conv(sex):\n",
    "    if sex == 'M':\n",
    "        sex = 0\n",
    "    elif sex == 'F':\n",
    "        sex = 1\n",
    "    else:\n",
    "        sex = 2\n",
    "        \n",
    "    return sex\n",
    "\n",
    "data['sex'] = data['sex'].apply(conv)\n",
    "sample['sex'] = sample['sex'].apply(conv)\n",
    "data.head()"
   ]
  },
  {
   "cell_type": "markdown",
   "metadata": {},
   "source": [
    "## Separating"
   ]
  },
  {
   "cell_type": "code",
   "execution_count": 4,
   "metadata": {},
   "outputs": [],
   "source": [
    "features = data.columns.difference(['type'])\n",
    "\n",
    "X = data[features]\n",
    "y = data['type']\n",
    "samp = sample"
   ]
  },
  {
   "cell_type": "markdown",
   "metadata": {},
   "source": [
    "## Creating and training a classifier"
   ]
  },
  {
   "cell_type": "code",
   "execution_count": 13,
   "metadata": {},
   "outputs": [
    {
     "data": {
      "text/plain": [
       "KNeighborsClassifier(algorithm='auto', leaf_size=30, metric='minkowski',\n",
       "                     metric_params=None, n_jobs=None, n_neighbors=1, p=2,\n",
       "                     weights='distance')"
      ]
     },
     "execution_count": 13,
     "metadata": {},
     "output_type": "execute_result"
    }
   ],
   "source": [
    "knn = KNeighborsClassifier(n_neighbors = 1,\n",
    "                           weights = 'distance',\n",
    "                           algorithm = 'auto',\n",
    "                           p = 2)\n",
    "knn.fit(X, y)"
   ]
  },
  {
   "cell_type": "code",
   "execution_count": 14,
   "metadata": {},
   "outputs": [
    {
     "data": {
      "text/plain": [
       "array([2])"
      ]
     },
     "execution_count": 14,
     "metadata": {},
     "output_type": "execute_result"
    }
   ],
   "source": [
    "X_new = np.array([[0, 0.535, 0.420, 0.150, 0.6995, 0.2575, 0.1530, 0.2400]])\n",
    "X_new.shape\n",
    "knn.predict(X_new)"
   ]
  },
  {
   "cell_type": "code",
   "execution_count": 25,
   "metadata": {},
   "outputs": [
    {
     "name": "stderr",
     "output_type": "stream",
     "text": [
      "/home/franklin/.local/lib/python3.6/site-packages/sklearn/model_selection/_split.py:1978: FutureWarning: The default value of cv will change from 3 to 5 in version 0.22. Specify it explicitly to silence this warning.\n",
      "  warnings.warn(CV_WARNING, FutureWarning)\n"
     ]
    },
    {
     "data": {
      "text/plain": [
       "({'algorithm': 'auto', 'n_neighbors': 10, 'p': 2, 'weights': 'distance'},\n",
       " 0.6344189016602809)"
      ]
     },
     "execution_count": 25,
     "metadata": {},
     "output_type": "execute_result"
    }
   ],
   "source": [
    "from sklearn.model_selection import GridSearchCV\n",
    "\n",
    "param_grid = {\n",
    "            \"algorithm\": ['auto', 'ball_tree', 'kd_tree', 'brute'],\n",
    "            \"n_neighbors\": [1, 2, 3, 4, 5, 6, 7, 8, 9, 10],\n",
    "            \"p\": [1, 2],\n",
    "            \"weights\": ['distance', 'uniform']\n",
    "}\n",
    "grid_search = GridSearchCV(knn, param_grid, scoring=\"accuracy\")\n",
    "grid_search.fit(X, y)\n",
    "\n",
    "knn = grid_search.best_estimator_ \n",
    "grid_search.best_params_, grid_search.best_score_"
   ]
  },
  {
   "cell_type": "code",
   "execution_count": 26,
   "metadata": {},
   "outputs": [
    {
     "name": "stdout",
     "output_type": "stream",
     "text": [
      "0.6388894133422729\n"
     ]
    }
   ],
   "source": [
    "from sklearn.model_selection import cross_val_score\n",
    "\n",
    "scores = cross_val_score(knn, X, y, scoring='accuracy', cv=5)\n",
    "print(scores.mean())"
   ]
  },
  {
   "cell_type": "code",
   "execution_count": null,
   "metadata": {},
   "outputs": [],
   "source": [
    "import requests\n",
    "\n",
    "#realizando previsões com o arquivo de\n",
    "print(' - Aplicando modelo e enviando para o servidor')\n",
    "y_pred = knn.predict(sample)\n",
    "\n",
    "# Enviando previsões realizadas com o modelo para o servidor\n",
    "URL = \"https://aydanomachado.com/mlclass/03_Validation.php\"\n",
    "\n",
    "#TODO Substituir pela sua chave aqui\n",
    "DEV_KEY = \"VovóLearn\"\n",
    "\n",
    "# json para ser enviado para o servidor\n",
    "data = {'dev_key':DEV_KEY,\n",
    "        'predictions':pd.Series(y_pred).to_json(orient='values')}\n",
    "\n",
    "# Enviando requisição e salvando o objeto resposta\n",
    "#r = requests.post(url = URL, data = data)\n",
    "\n",
    "# Extraindo e imprimindo o texto da resposta\n",
    "pastebin_url = r.text\n",
    "print(\" - Resposta do servidor:\\n\", r.text, \"\\n\")"
   ]
  }
 ],
 "metadata": {
  "kernelspec": {
   "display_name": "Python 3",
   "language": "python",
   "name": "python3"
  },
  "language_info": {
   "codemirror_mode": {
    "name": "ipython",
    "version": 3
   },
   "file_extension": ".py",
   "mimetype": "text/x-python",
   "name": "python",
   "nbconvert_exporter": "python",
   "pygments_lexer": "ipython3",
   "version": "3.6.8"
  }
 },
 "nbformat": 4,
 "nbformat_minor": 2
}
